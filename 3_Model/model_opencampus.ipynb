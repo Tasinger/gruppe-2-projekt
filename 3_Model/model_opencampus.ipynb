{
  "nbformat": 4,
  "nbformat_minor": 0,
  "metadata": {
    "colab": {
      "provenance": []
    },
    "kernelspec": {
      "name": "python3",
      "display_name": "Python 3"
    },
    "language_info": {
      "name": "python"
    }
  },
  "cells": [
    {
      "cell_type": "markdown",
      "source": [
        "# Packages laden"
      ],
      "metadata": {
        "id": "q_D2b0nOwKXL"
      }
    },
    {
      "cell_type": "code",
      "source": [
        "import tensorflow as tf\n",
        "import os\n",
        "import tensorflow_datasets as tfds\n",
        "import zipfile\n",
        "import shutil\n",
        "import matplotlib.pyplot as plt\n",
        "import numpy\n",
        "from keras import layers\n",
        "from keras import models\n",
        "from keras import optimizers\n",
        "from keras.preprocessing.image import ImageDataGenerator\n",
        "from keras import Input\n",
        "from keras.utils import plot_model\n",
        "from keras.optimizers import Adam\n",
        "from keras.models import Sequential\n",
        "from keras.layers import InputLayer, Dense, BatchNormalization"
      ],
      "metadata": {
        "id": "ZUxjaGAMwJS-"
      },
      "execution_count": 1,
      "outputs": []
    },
    {
      "cell_type": "markdown",
      "source": [
        "# Mounting und Data Loading\n",
        "\n"
      ],
      "metadata": {
        "id": "jULTZpb1eIKD"
      }
    },
    {
      "cell_type": "code",
      "execution_count": 2,
      "metadata": {
        "colab": {
          "base_uri": "https://localhost:8080/"
        },
        "id": "veTtCn7Wb0bY",
        "outputId": "ba148892-14a7-406a-a996-e49641b1a2a6"
      },
      "outputs": [
        {
          "output_type": "stream",
          "name": "stdout",
          "text": [
            "Mounted at /content/drive\n"
          ]
        }
      ],
      "source": [
        "from google.colab import drive\n",
        "drive.mount('/content/drive')"
      ]
    },
    {
      "cell_type": "markdown",
      "source": [
        "Arbeitsverzeichnis wechseln"
      ],
      "metadata": {
        "id": "8RhrAJAwvfHT"
      }
    },
    {
      "cell_type": "code",
      "source": [
        "import os\n",
        "os.chdir('/content/drive/MyDrive/Colab Notebooks/Introduction Course')"
      ],
      "metadata": {
        "id": "Ls4DfU0dcO4k"
      },
      "execution_count": 3,
      "outputs": []
    },
    {
      "cell_type": "markdown",
      "source": [
        "Daten einlesen"
      ],
      "metadata": {
        "id": "a-P3W0Pvvjo_"
      }
    },
    {
      "cell_type": "code",
      "source": [
        "import pandas as pd\n",
        "\n",
        "data_path = \"./csv_data\"\n",
        "\n",
        "training_features = pd.read_csv(f'{data_path}/training_features.csv')\n",
        "training_labels = pd.read_csv(f'{data_path}/training_labels.csv')\n",
        "validation_features = pd.read_csv(f'{data_path}/validation_features.csv')\n",
        "validation_labels = pd.read_csv(f'{data_path}/validation_labels.csv')\n",
        "test_features = pd.read_csv(f'{data_path}/test_features.csv')\n",
        "validation_data = pd.read_csv(f'{data_path}/validation_data.csv')"
      ],
      "metadata": {
        "id": "_0okd5dugBrQ"
      },
      "execution_count": 32,
      "outputs": []
    },
    {
      "cell_type": "code",
      "source": [
        "print('Training-Set: ', training_features.shape)\n",
        "print('Test-Set: ', training_labels.shape)\n",
        "print('Validation-Features: ', validation_features.shape)\n",
        "print('Validation-Labels: ', validation_labels.shape)\n",
        "print('Test-Features: ', test_features.shape)\n",
        "print('Validation-Data: ', validation_data.shape)"
      ],
      "metadata": {
        "colab": {
          "base_uri": "https://localhost:8080/"
        },
        "id": "IkqFdYl3VKYS",
        "outputId": "e104d79b-b133-4dda-9951-25093e504ec9"
      },
      "execution_count": 33,
      "outputs": [
        {
          "output_type": "stream",
          "name": "stdout",
          "text": [
            "Training-Set:  (7467, 22)\n",
            "Test-Set:  (7467, 1)\n",
            "Validation-Features:  (1867, 22)\n",
            "Validation-Labels:  (1867, 1)\n",
            "Test-Features:  (1830, 23)\n",
            "Validation-Data:  (1867, 23)\n"
          ]
        }
      ]
    },
    {
      "cell_type": "code",
      "source": [
        "validation_data.head()"
      ],
      "metadata": {
        "colab": {
          "base_uri": "https://localhost:8080/",
          "height": 255
        },
        "id": "_MuR2z6axBh8",
        "outputId": "593d1b52-c1cb-41b0-f046-593d7bd8acdd"
      },
      "execution_count": 34,
      "outputs": [
        {
          "output_type": "execute_result",
          "data": {
            "text/plain": [
              "        label  (Intercept)  wochentagDonnerstag  wochentagFreitag  \\\n",
              "0  280.921451            1                    0                 0   \n",
              "1  239.066941            1                    1                 0   \n",
              "2  582.549770            1                    1                 0   \n",
              "3  264.347743            1                    1                 0   \n",
              "4  111.906264            1                    1                 0   \n",
              "\n",
              "   wochentagMittwoch  wochentagMontag  wochentagSamstag  wochentagSonntag  \\\n",
              "0                  1                0                 0                 0   \n",
              "1                  0                0                 0                 0   \n",
              "2                  0                0                 0                 0   \n",
              "3                  0                0                 0                 0   \n",
              "4                  0                0                 0                 0   \n",
              "\n",
              "   jahreszeitHerbst  jahreszeitSommer  ...  Temperaturmoderat  \\\n",
              "0                 0                 1  ...                  1   \n",
              "1                 0                 1  ...                  1   \n",
              "2                 0                 1  ...                  1   \n",
              "3                 0                 1  ...                  1   \n",
              "4                 0                 1  ...                  1   \n",
              "\n",
              "   Temperatursommerlich  as.factor(Warengruppe)2  as.factor(Warengruppe)3  \\\n",
              "0                     0                        0                        0   \n",
              "1                     0                        0                        0   \n",
              "2                     0                        1                        0   \n",
              "3                     0                        0                        1   \n",
              "4                     0                        0                        0   \n",
              "\n",
              "   as.factor(Warengruppe)4  as.factor(Warengruppe)5  as.factor(Warengruppe)6  \\\n",
              "0                        0                        1                        0   \n",
              "1                        0                        0                        0   \n",
              "2                        0                        0                        0   \n",
              "3                        0                        0                        0   \n",
              "4                        1                        0                        0   \n",
              "\n",
              "   KielerWocheTRUE  FeiertagTRUE  FerienTRUE  \n",
              "0                0             0           1  \n",
              "1                0             0           1  \n",
              "2                0             0           1  \n",
              "3                0             0           1  \n",
              "4                0             0           1  \n",
              "\n",
              "[5 rows x 23 columns]"
            ],
            "text/html": [
              "\n",
              "  <div id=\"df-d5344aac-b4de-4e79-a36d-27d1187b6c08\" class=\"colab-df-container\">\n",
              "    <div>\n",
              "<style scoped>\n",
              "    .dataframe tbody tr th:only-of-type {\n",
              "        vertical-align: middle;\n",
              "    }\n",
              "\n",
              "    .dataframe tbody tr th {\n",
              "        vertical-align: top;\n",
              "    }\n",
              "\n",
              "    .dataframe thead th {\n",
              "        text-align: right;\n",
              "    }\n",
              "</style>\n",
              "<table border=\"1\" class=\"dataframe\">\n",
              "  <thead>\n",
              "    <tr style=\"text-align: right;\">\n",
              "      <th></th>\n",
              "      <th>label</th>\n",
              "      <th>(Intercept)</th>\n",
              "      <th>wochentagDonnerstag</th>\n",
              "      <th>wochentagFreitag</th>\n",
              "      <th>wochentagMittwoch</th>\n",
              "      <th>wochentagMontag</th>\n",
              "      <th>wochentagSamstag</th>\n",
              "      <th>wochentagSonntag</th>\n",
              "      <th>jahreszeitHerbst</th>\n",
              "      <th>jahreszeitSommer</th>\n",
              "      <th>...</th>\n",
              "      <th>Temperaturmoderat</th>\n",
              "      <th>Temperatursommerlich</th>\n",
              "      <th>as.factor(Warengruppe)2</th>\n",
              "      <th>as.factor(Warengruppe)3</th>\n",
              "      <th>as.factor(Warengruppe)4</th>\n",
              "      <th>as.factor(Warengruppe)5</th>\n",
              "      <th>as.factor(Warengruppe)6</th>\n",
              "      <th>KielerWocheTRUE</th>\n",
              "      <th>FeiertagTRUE</th>\n",
              "      <th>FerienTRUE</th>\n",
              "    </tr>\n",
              "  </thead>\n",
              "  <tbody>\n",
              "    <tr>\n",
              "      <th>0</th>\n",
              "      <td>280.921451</td>\n",
              "      <td>1</td>\n",
              "      <td>0</td>\n",
              "      <td>0</td>\n",
              "      <td>1</td>\n",
              "      <td>0</td>\n",
              "      <td>0</td>\n",
              "      <td>0</td>\n",
              "      <td>0</td>\n",
              "      <td>1</td>\n",
              "      <td>...</td>\n",
              "      <td>1</td>\n",
              "      <td>0</td>\n",
              "      <td>0</td>\n",
              "      <td>0</td>\n",
              "      <td>0</td>\n",
              "      <td>1</td>\n",
              "      <td>0</td>\n",
              "      <td>0</td>\n",
              "      <td>0</td>\n",
              "      <td>1</td>\n",
              "    </tr>\n",
              "    <tr>\n",
              "      <th>1</th>\n",
              "      <td>239.066941</td>\n",
              "      <td>1</td>\n",
              "      <td>1</td>\n",
              "      <td>0</td>\n",
              "      <td>0</td>\n",
              "      <td>0</td>\n",
              "      <td>0</td>\n",
              "      <td>0</td>\n",
              "      <td>0</td>\n",
              "      <td>1</td>\n",
              "      <td>...</td>\n",
              "      <td>1</td>\n",
              "      <td>0</td>\n",
              "      <td>0</td>\n",
              "      <td>0</td>\n",
              "      <td>0</td>\n",
              "      <td>0</td>\n",
              "      <td>0</td>\n",
              "      <td>0</td>\n",
              "      <td>0</td>\n",
              "      <td>1</td>\n",
              "    </tr>\n",
              "    <tr>\n",
              "      <th>2</th>\n",
              "      <td>582.549770</td>\n",
              "      <td>1</td>\n",
              "      <td>1</td>\n",
              "      <td>0</td>\n",
              "      <td>0</td>\n",
              "      <td>0</td>\n",
              "      <td>0</td>\n",
              "      <td>0</td>\n",
              "      <td>0</td>\n",
              "      <td>1</td>\n",
              "      <td>...</td>\n",
              "      <td>1</td>\n",
              "      <td>0</td>\n",
              "      <td>1</td>\n",
              "      <td>0</td>\n",
              "      <td>0</td>\n",
              "      <td>0</td>\n",
              "      <td>0</td>\n",
              "      <td>0</td>\n",
              "      <td>0</td>\n",
              "      <td>1</td>\n",
              "    </tr>\n",
              "    <tr>\n",
              "      <th>3</th>\n",
              "      <td>264.347743</td>\n",
              "      <td>1</td>\n",
              "      <td>1</td>\n",
              "      <td>0</td>\n",
              "      <td>0</td>\n",
              "      <td>0</td>\n",
              "      <td>0</td>\n",
              "      <td>0</td>\n",
              "      <td>0</td>\n",
              "      <td>1</td>\n",
              "      <td>...</td>\n",
              "      <td>1</td>\n",
              "      <td>0</td>\n",
              "      <td>0</td>\n",
              "      <td>1</td>\n",
              "      <td>0</td>\n",
              "      <td>0</td>\n",
              "      <td>0</td>\n",
              "      <td>0</td>\n",
              "      <td>0</td>\n",
              "      <td>1</td>\n",
              "    </tr>\n",
              "    <tr>\n",
              "      <th>4</th>\n",
              "      <td>111.906264</td>\n",
              "      <td>1</td>\n",
              "      <td>1</td>\n",
              "      <td>0</td>\n",
              "      <td>0</td>\n",
              "      <td>0</td>\n",
              "      <td>0</td>\n",
              "      <td>0</td>\n",
              "      <td>0</td>\n",
              "      <td>1</td>\n",
              "      <td>...</td>\n",
              "      <td>1</td>\n",
              "      <td>0</td>\n",
              "      <td>0</td>\n",
              "      <td>0</td>\n",
              "      <td>1</td>\n",
              "      <td>0</td>\n",
              "      <td>0</td>\n",
              "      <td>0</td>\n",
              "      <td>0</td>\n",
              "      <td>1</td>\n",
              "    </tr>\n",
              "  </tbody>\n",
              "</table>\n",
              "<p>5 rows × 23 columns</p>\n",
              "</div>\n",
              "    <div class=\"colab-df-buttons\">\n",
              "\n",
              "  <div class=\"colab-df-container\">\n",
              "    <button class=\"colab-df-convert\" onclick=\"convertToInteractive('df-d5344aac-b4de-4e79-a36d-27d1187b6c08')\"\n",
              "            title=\"Convert this dataframe to an interactive table.\"\n",
              "            style=\"display:none;\">\n",
              "\n",
              "  <svg xmlns=\"http://www.w3.org/2000/svg\" height=\"24px\" viewBox=\"0 -960 960 960\">\n",
              "    <path d=\"M120-120v-720h720v720H120Zm60-500h600v-160H180v160Zm220 220h160v-160H400v160Zm0 220h160v-160H400v160ZM180-400h160v-160H180v160Zm440 0h160v-160H620v160ZM180-180h160v-160H180v160Zm440 0h160v-160H620v160Z\"/>\n",
              "  </svg>\n",
              "    </button>\n",
              "\n",
              "  <style>\n",
              "    .colab-df-container {\n",
              "      display:flex;\n",
              "      gap: 12px;\n",
              "    }\n",
              "\n",
              "    .colab-df-convert {\n",
              "      background-color: #E8F0FE;\n",
              "      border: none;\n",
              "      border-radius: 50%;\n",
              "      cursor: pointer;\n",
              "      display: none;\n",
              "      fill: #1967D2;\n",
              "      height: 32px;\n",
              "      padding: 0 0 0 0;\n",
              "      width: 32px;\n",
              "    }\n",
              "\n",
              "    .colab-df-convert:hover {\n",
              "      background-color: #E2EBFA;\n",
              "      box-shadow: 0px 1px 2px rgba(60, 64, 67, 0.3), 0px 1px 3px 1px rgba(60, 64, 67, 0.15);\n",
              "      fill: #174EA6;\n",
              "    }\n",
              "\n",
              "    .colab-df-buttons div {\n",
              "      margin-bottom: 4px;\n",
              "    }\n",
              "\n",
              "    [theme=dark] .colab-df-convert {\n",
              "      background-color: #3B4455;\n",
              "      fill: #D2E3FC;\n",
              "    }\n",
              "\n",
              "    [theme=dark] .colab-df-convert:hover {\n",
              "      background-color: #434B5C;\n",
              "      box-shadow: 0px 1px 3px 1px rgba(0, 0, 0, 0.15);\n",
              "      filter: drop-shadow(0px 1px 2px rgba(0, 0, 0, 0.3));\n",
              "      fill: #FFFFFF;\n",
              "    }\n",
              "  </style>\n",
              "\n",
              "    <script>\n",
              "      const buttonEl =\n",
              "        document.querySelector('#df-d5344aac-b4de-4e79-a36d-27d1187b6c08 button.colab-df-convert');\n",
              "      buttonEl.style.display =\n",
              "        google.colab.kernel.accessAllowed ? 'block' : 'none';\n",
              "\n",
              "      async function convertToInteractive(key) {\n",
              "        const element = document.querySelector('#df-d5344aac-b4de-4e79-a36d-27d1187b6c08');\n",
              "        const dataTable =\n",
              "          await google.colab.kernel.invokeFunction('convertToInteractive',\n",
              "                                                    [key], {});\n",
              "        if (!dataTable) return;\n",
              "\n",
              "        const docLinkHtml = 'Like what you see? Visit the ' +\n",
              "          '<a target=\"_blank\" href=https://colab.research.google.com/notebooks/data_table.ipynb>data table notebook</a>'\n",
              "          + ' to learn more about interactive tables.';\n",
              "        element.innerHTML = '';\n",
              "        dataTable['output_type'] = 'display_data';\n",
              "        await google.colab.output.renderOutput(dataTable, element);\n",
              "        const docLink = document.createElement('div');\n",
              "        docLink.innerHTML = docLinkHtml;\n",
              "        element.appendChild(docLink);\n",
              "      }\n",
              "    </script>\n",
              "  </div>\n",
              "\n",
              "\n",
              "<div id=\"df-474008dc-5633-410f-a75c-9e87cb6df9c4\">\n",
              "  <button class=\"colab-df-quickchart\" onclick=\"quickchart('df-474008dc-5633-410f-a75c-9e87cb6df9c4')\"\n",
              "            title=\"Suggest charts\"\n",
              "            style=\"display:none;\">\n",
              "\n",
              "<svg xmlns=\"http://www.w3.org/2000/svg\" height=\"24px\"viewBox=\"0 0 24 24\"\n",
              "     width=\"24px\">\n",
              "    <g>\n",
              "        <path d=\"M19 3H5c-1.1 0-2 .9-2 2v14c0 1.1.9 2 2 2h14c1.1 0 2-.9 2-2V5c0-1.1-.9-2-2-2zM9 17H7v-7h2v7zm4 0h-2V7h2v10zm4 0h-2v-4h2v4z\"/>\n",
              "    </g>\n",
              "</svg>\n",
              "  </button>\n",
              "\n",
              "<style>\n",
              "  .colab-df-quickchart {\n",
              "      --bg-color: #E8F0FE;\n",
              "      --fill-color: #1967D2;\n",
              "      --hover-bg-color: #E2EBFA;\n",
              "      --hover-fill-color: #174EA6;\n",
              "      --disabled-fill-color: #AAA;\n",
              "      --disabled-bg-color: #DDD;\n",
              "  }\n",
              "\n",
              "  [theme=dark] .colab-df-quickchart {\n",
              "      --bg-color: #3B4455;\n",
              "      --fill-color: #D2E3FC;\n",
              "      --hover-bg-color: #434B5C;\n",
              "      --hover-fill-color: #FFFFFF;\n",
              "      --disabled-bg-color: #3B4455;\n",
              "      --disabled-fill-color: #666;\n",
              "  }\n",
              "\n",
              "  .colab-df-quickchart {\n",
              "    background-color: var(--bg-color);\n",
              "    border: none;\n",
              "    border-radius: 50%;\n",
              "    cursor: pointer;\n",
              "    display: none;\n",
              "    fill: var(--fill-color);\n",
              "    height: 32px;\n",
              "    padding: 0;\n",
              "    width: 32px;\n",
              "  }\n",
              "\n",
              "  .colab-df-quickchart:hover {\n",
              "    background-color: var(--hover-bg-color);\n",
              "    box-shadow: 0 1px 2px rgba(60, 64, 67, 0.3), 0 1px 3px 1px rgba(60, 64, 67, 0.15);\n",
              "    fill: var(--button-hover-fill-color);\n",
              "  }\n",
              "\n",
              "  .colab-df-quickchart-complete:disabled,\n",
              "  .colab-df-quickchart-complete:disabled:hover {\n",
              "    background-color: var(--disabled-bg-color);\n",
              "    fill: var(--disabled-fill-color);\n",
              "    box-shadow: none;\n",
              "  }\n",
              "\n",
              "  .colab-df-spinner {\n",
              "    border: 2px solid var(--fill-color);\n",
              "    border-color: transparent;\n",
              "    border-bottom-color: var(--fill-color);\n",
              "    animation:\n",
              "      spin 1s steps(1) infinite;\n",
              "  }\n",
              "\n",
              "  @keyframes spin {\n",
              "    0% {\n",
              "      border-color: transparent;\n",
              "      border-bottom-color: var(--fill-color);\n",
              "      border-left-color: var(--fill-color);\n",
              "    }\n",
              "    20% {\n",
              "      border-color: transparent;\n",
              "      border-left-color: var(--fill-color);\n",
              "      border-top-color: var(--fill-color);\n",
              "    }\n",
              "    30% {\n",
              "      border-color: transparent;\n",
              "      border-left-color: var(--fill-color);\n",
              "      border-top-color: var(--fill-color);\n",
              "      border-right-color: var(--fill-color);\n",
              "    }\n",
              "    40% {\n",
              "      border-color: transparent;\n",
              "      border-right-color: var(--fill-color);\n",
              "      border-top-color: var(--fill-color);\n",
              "    }\n",
              "    60% {\n",
              "      border-color: transparent;\n",
              "      border-right-color: var(--fill-color);\n",
              "    }\n",
              "    80% {\n",
              "      border-color: transparent;\n",
              "      border-right-color: var(--fill-color);\n",
              "      border-bottom-color: var(--fill-color);\n",
              "    }\n",
              "    90% {\n",
              "      border-color: transparent;\n",
              "      border-bottom-color: var(--fill-color);\n",
              "    }\n",
              "  }\n",
              "</style>\n",
              "\n",
              "  <script>\n",
              "    async function quickchart(key) {\n",
              "      const quickchartButtonEl =\n",
              "        document.querySelector('#' + key + ' button');\n",
              "      quickchartButtonEl.disabled = true;  // To prevent multiple clicks.\n",
              "      quickchartButtonEl.classList.add('colab-df-spinner');\n",
              "      try {\n",
              "        const charts = await google.colab.kernel.invokeFunction(\n",
              "            'suggestCharts', [key], {});\n",
              "      } catch (error) {\n",
              "        console.error('Error during call to suggestCharts:', error);\n",
              "      }\n",
              "      quickchartButtonEl.classList.remove('colab-df-spinner');\n",
              "      quickchartButtonEl.classList.add('colab-df-quickchart-complete');\n",
              "    }\n",
              "    (() => {\n",
              "      let quickchartButtonEl =\n",
              "        document.querySelector('#df-474008dc-5633-410f-a75c-9e87cb6df9c4 button');\n",
              "      quickchartButtonEl.style.display =\n",
              "        google.colab.kernel.accessAllowed ? 'block' : 'none';\n",
              "    })();\n",
              "  </script>\n",
              "</div>\n",
              "    </div>\n",
              "  </div>\n"
            ]
          },
          "metadata": {},
          "execution_count": 34
        }
      ]
    },
    {
      "cell_type": "markdown",
      "source": [
        "# Modell bauen"
      ],
      "metadata": {
        "id": "h2iwBwuEwqeT"
      }
    },
    {
      "cell_type": "code",
      "source": [
        "# Grundgerüst Sequentialmodell\n",
        "model = models.Sequential()\n",
        "#Input Layer\n",
        "model.add(InputLayer(input_shape=(training_features.shape[1],), name='Input'))\n",
        "model.add(BatchNormalization( name = 'Normalization'))\n",
        "model.add(Dense(10, activation='relu', name='Hidden1'))\n",
        "model.add(Dense(4, activation='relu', name='Hidden2'))\n",
        "#Output Layer\n",
        "model.add(Dense(1, name='Output'))\n",
        "\n",
        "model.summary()"
      ],
      "metadata": {
        "colab": {
          "base_uri": "https://localhost:8080/"
        },
        "outputId": "b9e63514-3fbb-4c2f-d8ed-dbc61eb4f699",
        "id": "Gfk2F-xPsSFC"
      },
      "execution_count": 9,
      "outputs": [
        {
          "output_type": "stream",
          "name": "stdout",
          "text": [
            "Model: \"sequential\"\n",
            "_________________________________________________________________\n",
            " Layer (type)                Output Shape              Param #   \n",
            "=================================================================\n",
            " Normalization (BatchNormal  (None, 22)                88        \n",
            " ization)                                                        \n",
            "                                                                 \n",
            " Hidden1 (Dense)             (None, 10)                230       \n",
            "                                                                 \n",
            " Hidden2 (Dense)             (None, 4)                 44        \n",
            "                                                                 \n",
            " Output (Dense)              (None, 1)                 5         \n",
            "                                                                 \n",
            "=================================================================\n",
            "Total params: 367 (1.43 KB)\n",
            "Trainable params: 323 (1.26 KB)\n",
            "Non-trainable params: 44 (176.00 Byte)\n",
            "_________________________________________________________________\n"
          ]
        }
      ]
    },
    {
      "cell_type": "code",
      "source": [
        "# Model als Bild dargestellt\n",
        "plot_model(model, to_file='CNN_model.png', show_shapes=True, show_layer_names=True)"
      ],
      "metadata": {
        "colab": {
          "base_uri": "https://localhost:8080/",
          "height": 533
        },
        "id": "kfRCdAWduHWj",
        "outputId": "739995c5-ada8-49b1-9f57-7836dfaaa50a"
      },
      "execution_count": 10,
      "outputs": [
        {
          "output_type": "execute_result",
          "data": {
            "image/png": "[encoded data removed]",
            "text/plain": [
              "<IPython.core.display.Image object>"
            ]
          },
          "metadata": {},
          "execution_count": 10
        }
      ]
    },
    {
      "cell_type": "code",
      "source": [
        "# Model bauen\n",
        "model.compile(loss='mse',\n",
        "              optimizer=Adam(learning_rate=1e-4))"
      ],
      "metadata": {
        "id": "zgpPd3khkPZf"
      },
      "execution_count": 11,
      "outputs": []
    },
    {
      "cell_type": "code",
      "source": [
        "# Verlauf in history gespeichert\n",
        "epochs=200\n",
        "history = model.fit(\n",
        "  training_features,\n",
        "  training_labels,\n",
        "  validation_data=(validation_features, validation_labels),\n",
        "  epochs=epochs\n",
        ")"
      ],
      "metadata": {
        "colab": {
          "base_uri": "https://localhost:8080/"
        },
        "id": "PuO7nspdkXmH",
        "outputId": "22e3f3d5-5c28-4ddf-c8f4-5f4dc6ed660f"
      },
      "execution_count": 12,
      "outputs": [
        {
          "output_type": "stream",
          "name": "stdout",
          "text": [
            "Epoch 1/200\n",
            "234/234 [==============================] - 1s 2ms/step - loss: 65088.3984 - val_loss: 55684.1797\n",
            "Epoch 2/200\n",
            "234/234 [==============================] - 1s 2ms/step - loss: 64844.3320 - val_loss: 55346.8086\n",
            "Epoch 3/200\n",
            "234/234 [==============================] - 1s 2ms/step - loss: 64503.3164 - val_loss: 54942.2773\n",
            "Epoch 4/200\n",
            "234/234 [==============================] - 1s 3ms/step - loss: 64013.2734 - val_loss: 54416.5195\n",
            "Epoch 5/200\n",
            "234/234 [==============================] - 0s 2ms/step - loss: 63341.0117 - val_loss: 53669.4609\n",
            "Epoch 6/200\n",
            "234/234 [==============================] - 0s 2ms/step - loss: 62418.8711 - val_loss: 52677.1797\n",
            "Epoch 7/200\n",
            "234/234 [==============================] - 0s 2ms/step - loss: 61186.4336 - val_loss: 51364.5078\n",
            "Epoch 8/200\n",
            "234/234 [==============================] - 0s 2ms/step - loss: 59564.6641 - val_loss: 49665.3164\n",
            "Epoch 9/200\n",
            "234/234 [==============================] - 0s 2ms/step - loss: 57499.0117 - val_loss: 47516.5820\n",
            "Epoch 10/200\n",
            "234/234 [==============================] - 0s 2ms/step - loss: 54922.8125 - val_loss: 45035.9023\n",
            "Epoch 11/200\n",
            "234/234 [==============================] - 0s 2ms/step - loss: 51834.7969 - val_loss: 41932.3633\n",
            "Epoch 12/200\n",
            "234/234 [==============================] - 0s 2ms/step - loss: 48161.7852 - val_loss: 38410.8242\n",
            "Epoch 13/200\n",
            "234/234 [==============================] - 0s 2ms/step - loss: 44084.6289 - val_loss: 34532.6562\n",
            "Epoch 14/200\n",
            "234/234 [==============================] - 0s 2ms/step - loss: 39701.5273 - val_loss: 30574.8066\n",
            "Epoch 15/200\n",
            "234/234 [==============================] - 0s 2ms/step - loss: 35228.1328 - val_loss: 26625.2031\n",
            "Epoch 16/200\n",
            "234/234 [==============================] - 0s 2ms/step - loss: 30938.4668 - val_loss: 22937.9453\n",
            "Epoch 17/200\n",
            "234/234 [==============================] - 0s 2ms/step - loss: 27004.2461 - val_loss: 19875.2188\n",
            "Epoch 18/200\n",
            "234/234 [==============================] - 0s 2ms/step - loss: 23691.6133 - val_loss: 17195.6055\n",
            "Epoch 19/200\n",
            "234/234 [==============================] - 0s 2ms/step - loss: 20948.8496 - val_loss: 15318.1973\n",
            "Epoch 20/200\n",
            "234/234 [==============================] - 0s 2ms/step - loss: 18852.5664 - val_loss: 14085.1475\n",
            "Epoch 21/200\n",
            "234/234 [==============================] - 0s 2ms/step - loss: 17418.9277 - val_loss: 13224.7324\n",
            "Epoch 22/200\n",
            "234/234 [==============================] - 0s 2ms/step - loss: 16479.9648 - val_loss: 12623.0508\n",
            "Epoch 23/200\n",
            "234/234 [==============================] - 0s 2ms/step - loss: 15776.8154 - val_loss: 12215.0938\n",
            "Epoch 24/200\n",
            "234/234 [==============================] - 0s 2ms/step - loss: 15197.4092 - val_loss: 11867.3916\n",
            "Epoch 25/200\n",
            "234/234 [==============================] - 0s 2ms/step - loss: 14899.3789 - val_loss: 11554.1650\n",
            "Epoch 26/200\n",
            "234/234 [==============================] - 0s 2ms/step - loss: 14411.3916 - val_loss: 11281.1582\n",
            "Epoch 27/200\n",
            "234/234 [==============================] - 0s 2ms/step - loss: 14019.0166 - val_loss: 11005.7783\n",
            "Epoch 28/200\n",
            "234/234 [==============================] - 0s 2ms/step - loss: 13710.6455 - val_loss: 10704.8076\n",
            "Epoch 29/200\n",
            "234/234 [==============================] - 0s 2ms/step - loss: 13411.7432 - val_loss: 10461.7451\n",
            "Epoch 30/200\n",
            "234/234 [==============================] - 0s 1ms/step - loss: 13129.6787 - val_loss: 10158.1660\n",
            "Epoch 31/200\n",
            "234/234 [==============================] - 0s 2ms/step - loss: 12914.3789 - val_loss: 9928.9639\n",
            "Epoch 32/200\n",
            "234/234 [==============================] - 1s 2ms/step - loss: 12524.4912 - val_loss: 9647.4746\n",
            "Epoch 33/200\n",
            "234/234 [==============================] - 1s 2ms/step - loss: 12212.9648 - val_loss: 9429.7793\n",
            "Epoch 34/200\n",
            "234/234 [==============================] - 0s 2ms/step - loss: 12087.4297 - val_loss: 9193.4893\n",
            "Epoch 35/200\n",
            "234/234 [==============================] - 0s 2ms/step - loss: 11703.0781 - val_loss: 9017.2607\n",
            "Epoch 36/200\n",
            "234/234 [==============================] - 1s 2ms/step - loss: 11539.7803 - val_loss: 8810.7852\n",
            "Epoch 37/200\n",
            "234/234 [==============================] - 1s 3ms/step - loss: 11203.8877 - val_loss: 8635.3359\n",
            "Epoch 38/200\n",
            "234/234 [==============================] - 0s 2ms/step - loss: 11137.4336 - val_loss: 8468.6973\n",
            "Epoch 39/200\n",
            "234/234 [==============================] - 0s 2ms/step - loss: 10848.2725 - val_loss: 8257.6855\n",
            "Epoch 40/200\n",
            "234/234 [==============================] - 0s 2ms/step - loss: 10756.1689 - val_loss: 8119.5811\n",
            "Epoch 41/200\n",
            "234/234 [==============================] - 0s 2ms/step - loss: 10415.7139 - val_loss: 7974.9790\n",
            "Epoch 42/200\n",
            "234/234 [==============================] - 0s 2ms/step - loss: 10264.2129 - val_loss: 7845.5635\n",
            "Epoch 43/200\n",
            "234/234 [==============================] - 0s 2ms/step - loss: 10081.6465 - val_loss: 7702.5103\n",
            "Epoch 44/200\n",
            "234/234 [==============================] - 0s 2ms/step - loss: 9978.5273 - val_loss: 7620.8950\n",
            "Epoch 45/200\n",
            "234/234 [==============================] - 0s 2ms/step - loss: 9739.6533 - val_loss: 7505.6455\n",
            "Epoch 46/200\n",
            "234/234 [==============================] - 0s 1ms/step - loss: 9626.6230 - val_loss: 7349.3379\n",
            "Epoch 47/200\n",
            "234/234 [==============================] - 0s 2ms/step - loss: 9468.4717 - val_loss: 7257.8745\n",
            "Epoch 48/200\n",
            "234/234 [==============================] - 0s 1ms/step - loss: 9423.6201 - val_loss: 7180.5693\n",
            "Epoch 49/200\n",
            "234/234 [==============================] - 0s 2ms/step - loss: 9270.0088 - val_loss: 7077.6533\n",
            "Epoch 50/200\n",
            "234/234 [==============================] - 0s 2ms/step - loss: 9116.9463 - val_loss: 7032.7178\n",
            "Epoch 51/200\n",
            "234/234 [==============================] - 0s 2ms/step - loss: 9115.5889 - val_loss: 6974.8374\n",
            "Epoch 52/200\n",
            "234/234 [==============================] - 0s 1ms/step - loss: 8919.4365 - val_loss: 6844.0654\n",
            "Epoch 53/200\n",
            "234/234 [==============================] - 0s 1ms/step - loss: 8880.5234 - val_loss: 6804.4463\n",
            "Epoch 54/200\n",
            "234/234 [==============================] - 0s 2ms/step - loss: 8815.5537 - val_loss: 6721.8594\n",
            "Epoch 55/200\n",
            "234/234 [==============================] - 0s 2ms/step - loss: 8799.6387 - val_loss: 6720.9019\n",
            "Epoch 56/200\n",
            "234/234 [==============================] - 0s 2ms/step - loss: 8633.7441 - val_loss: 6652.8965\n",
            "Epoch 57/200\n",
            "234/234 [==============================] - 0s 2ms/step - loss: 8471.7236 - val_loss: 6612.8027\n",
            "Epoch 58/200\n",
            "234/234 [==============================] - 0s 2ms/step - loss: 8485.1064 - val_loss: 6557.4097\n",
            "Epoch 59/200\n",
            "234/234 [==============================] - 0s 2ms/step - loss: 8324.5840 - val_loss: 6515.3291\n",
            "Epoch 60/200\n",
            "234/234 [==============================] - 1s 3ms/step - loss: 8237.3877 - val_loss: 6451.6616\n",
            "Epoch 61/200\n",
            "234/234 [==============================] - 0s 2ms/step - loss: 8274.4609 - val_loss: 6427.0005\n",
            "Epoch 62/200\n",
            "234/234 [==============================] - 1s 3ms/step - loss: 8212.6055 - val_loss: 6417.9990\n",
            "Epoch 63/200\n",
            "234/234 [==============================] - 0s 2ms/step - loss: 8157.9355 - val_loss: 6373.8740\n",
            "Epoch 64/200\n",
            "234/234 [==============================] - 0s 2ms/step - loss: 8325.7500 - val_loss: 6326.7285\n",
            "Epoch 65/200\n",
            "234/234 [==============================] - 0s 2ms/step - loss: 8267.6738 - val_loss: 6307.2993\n",
            "Epoch 66/200\n",
            "234/234 [==============================] - 0s 2ms/step - loss: 8122.3018 - val_loss: 6236.3105\n",
            "Epoch 67/200\n",
            "234/234 [==============================] - 0s 2ms/step - loss: 7918.0820 - val_loss: 6246.1265\n",
            "Epoch 68/200\n",
            "234/234 [==============================] - 0s 2ms/step - loss: 7875.5142 - val_loss: 6210.9453\n",
            "Epoch 69/200\n",
            "234/234 [==============================] - 0s 2ms/step - loss: 7939.1250 - val_loss: 6164.9473\n",
            "Epoch 70/200\n",
            "234/234 [==============================] - 0s 2ms/step - loss: 8023.8569 - val_loss: 6156.6411\n",
            "Epoch 71/200\n",
            "234/234 [==============================] - 0s 2ms/step - loss: 7699.1299 - val_loss: 6132.0112\n",
            "Epoch 72/200\n",
            "234/234 [==============================] - 0s 1ms/step - loss: 7823.1680 - val_loss: 6087.5728\n",
            "Epoch 73/200\n",
            "234/234 [==============================] - 0s 2ms/step - loss: 7677.6719 - val_loss: 6101.7588\n",
            "Epoch 74/200\n",
            "234/234 [==============================] - 0s 2ms/step - loss: 7675.6216 - val_loss: 6044.5918\n",
            "Epoch 75/200\n",
            "234/234 [==============================] - 0s 2ms/step - loss: 7683.8062 - val_loss: 6011.2471\n",
            "Epoch 76/200\n",
            "234/234 [==============================] - 0s 2ms/step - loss: 7659.8765 - val_loss: 5991.2896\n",
            "Epoch 77/200\n",
            "234/234 [==============================] - 0s 2ms/step - loss: 7569.6797 - val_loss: 5972.0425\n",
            "Epoch 78/200\n",
            "234/234 [==============================] - 0s 2ms/step - loss: 7489.1787 - val_loss: 5945.0054\n",
            "Epoch 79/200\n",
            "234/234 [==============================] - 0s 1ms/step - loss: 7613.1992 - val_loss: 5885.8174\n",
            "Epoch 80/200\n",
            "234/234 [==============================] - 0s 2ms/step - loss: 7569.9307 - val_loss: 5889.3213\n",
            "Epoch 81/200\n",
            "234/234 [==============================] - 0s 2ms/step - loss: 7464.1641 - val_loss: 5921.6455\n",
            "Epoch 82/200\n",
            "234/234 [==============================] - 0s 2ms/step - loss: 7606.1138 - val_loss: 5888.3750\n",
            "Epoch 83/200\n",
            "234/234 [==============================] - 0s 2ms/step - loss: 7440.7397 - val_loss: 5843.9219\n",
            "Epoch 84/200\n",
            "234/234 [==============================] - 0s 2ms/step - loss: 7646.7622 - val_loss: 5846.1509\n",
            "Epoch 85/200\n",
            "234/234 [==============================] - 0s 1ms/step - loss: 7386.2534 - val_loss: 5848.0278\n",
            "Epoch 86/200\n",
            "234/234 [==============================] - 0s 2ms/step - loss: 7352.0532 - val_loss: 5730.8809\n",
            "Epoch 87/200\n",
            "234/234 [==============================] - 0s 2ms/step - loss: 7364.7173 - val_loss: 5760.5557\n",
            "Epoch 88/200\n",
            "234/234 [==============================] - 0s 2ms/step - loss: 7226.8501 - val_loss: 5676.3003\n",
            "Epoch 89/200\n",
            "234/234 [==============================] - 1s 5ms/step - loss: 7387.7002 - val_loss: 5728.9370\n",
            "Epoch 90/200\n",
            "234/234 [==============================] - 1s 2ms/step - loss: 7265.2036 - val_loss: 5694.2417\n",
            "Epoch 91/200\n",
            "234/234 [==============================] - 1s 2ms/step - loss: 7398.8950 - val_loss: 5593.5010\n",
            "Epoch 92/200\n",
            "234/234 [==============================] - 0s 2ms/step - loss: 7168.8389 - val_loss: 5636.4370\n",
            "Epoch 93/200\n",
            "234/234 [==============================] - 0s 2ms/step - loss: 7316.4121 - val_loss: 5686.6499\n",
            "Epoch 94/200\n",
            "234/234 [==============================] - 0s 2ms/step - loss: 7389.6411 - val_loss: 5606.4312\n",
            "Epoch 95/200\n",
            "234/234 [==============================] - 0s 2ms/step - loss: 7159.1934 - val_loss: 5599.2827\n",
            "Epoch 96/200\n",
            "234/234 [==============================] - 0s 2ms/step - loss: 7267.2241 - val_loss: 5533.6406\n",
            "Epoch 97/200\n",
            "234/234 [==============================] - 0s 2ms/step - loss: 7120.9512 - val_loss: 5556.9590\n",
            "Epoch 98/200\n",
            "234/234 [==============================] - 0s 1ms/step - loss: 7111.9932 - val_loss: 5523.3354\n",
            "Epoch 99/200\n",
            "234/234 [==============================] - 0s 2ms/step - loss: 7140.3481 - val_loss: 5525.2637\n",
            "Epoch 100/200\n",
            "234/234 [==============================] - 0s 2ms/step - loss: 6992.2358 - val_loss: 5538.7842\n",
            "Epoch 101/200\n",
            "234/234 [==============================] - 0s 2ms/step - loss: 7145.0093 - val_loss: 5434.1831\n",
            "Epoch 102/200\n",
            "234/234 [==============================] - 0s 2ms/step - loss: 7202.2891 - val_loss: 5439.2578\n",
            "Epoch 103/200\n",
            "234/234 [==============================] - 1s 2ms/step - loss: 6853.0635 - val_loss: 5518.8071\n",
            "Epoch 104/200\n",
            "234/234 [==============================] - 1s 2ms/step - loss: 6896.2539 - val_loss: 5456.0610\n",
            "Epoch 105/200\n",
            "234/234 [==============================] - 1s 2ms/step - loss: 6921.1191 - val_loss: 5370.5566\n",
            "Epoch 106/200\n",
            "234/234 [==============================] - 1s 3ms/step - loss: 7013.2271 - val_loss: 5404.1753\n",
            "Epoch 107/200\n",
            "234/234 [==============================] - 0s 2ms/step - loss: 6979.5986 - val_loss: 5342.0562\n",
            "Epoch 108/200\n",
            "234/234 [==============================] - 0s 2ms/step - loss: 6974.7080 - val_loss: 5396.5259\n",
            "Epoch 109/200\n",
            "234/234 [==============================] - 0s 1ms/step - loss: 6843.6587 - val_loss: 5335.4692\n",
            "Epoch 110/200\n",
            "234/234 [==============================] - 0s 2ms/step - loss: 6949.5894 - val_loss: 5321.4092\n",
            "Epoch 111/200\n",
            "234/234 [==============================] - 0s 2ms/step - loss: 6949.4351 - val_loss: 5376.2812\n",
            "Epoch 112/200\n",
            "234/234 [==============================] - 0s 2ms/step - loss: 6779.8975 - val_loss: 5273.5737\n",
            "Epoch 113/200\n",
            "234/234 [==============================] - 0s 2ms/step - loss: 6928.5991 - val_loss: 5290.9688\n",
            "Epoch 114/200\n",
            "234/234 [==============================] - 0s 2ms/step - loss: 6938.7847 - val_loss: 5316.0049\n",
            "Epoch 115/200\n",
            "234/234 [==============================] - 0s 2ms/step - loss: 6921.6592 - val_loss: 5224.8887\n",
            "Epoch 116/200\n",
            "234/234 [==============================] - 1s 3ms/step - loss: 7117.7012 - val_loss: 5256.3159\n",
            "Epoch 117/200\n",
            "234/234 [==============================] - 1s 2ms/step - loss: 6849.7017 - val_loss: 5196.7280\n",
            "Epoch 118/200\n",
            "234/234 [==============================] - 1s 3ms/step - loss: 6860.7637 - val_loss: 5219.8232\n",
            "Epoch 119/200\n",
            "234/234 [==============================] - 0s 2ms/step - loss: 6850.5811 - val_loss: 5235.8374\n",
            "Epoch 120/200\n",
            "234/234 [==============================] - 0s 2ms/step - loss: 6887.5112 - val_loss: 5279.7368\n",
            "Epoch 121/200\n",
            "234/234 [==============================] - 0s 2ms/step - loss: 6906.5205 - val_loss: 5200.6753\n",
            "Epoch 122/200\n",
            "234/234 [==============================] - 0s 2ms/step - loss: 6671.5049 - val_loss: 5148.9741\n",
            "Epoch 123/200\n",
            "234/234 [==============================] - 0s 2ms/step - loss: 6698.0610 - val_loss: 5146.6470\n",
            "Epoch 124/200\n",
            "234/234 [==============================] - 0s 2ms/step - loss: 6757.6221 - val_loss: 5111.5132\n",
            "Epoch 125/200\n",
            "234/234 [==============================] - 0s 2ms/step - loss: 6836.7876 - val_loss: 5042.8306\n",
            "Epoch 126/200\n",
            "234/234 [==============================] - 0s 2ms/step - loss: 6633.1548 - val_loss: 5145.2773\n",
            "Epoch 127/200\n",
            "234/234 [==============================] - 0s 2ms/step - loss: 6697.3892 - val_loss: 5054.1475\n",
            "Epoch 128/200\n",
            "234/234 [==============================] - 0s 2ms/step - loss: 6673.7280 - val_loss: 5099.4478\n",
            "Epoch 129/200\n",
            "234/234 [==============================] - 0s 2ms/step - loss: 6535.4204 - val_loss: 5087.6367\n",
            "Epoch 130/200\n",
            "234/234 [==============================] - 0s 2ms/step - loss: 6702.8135 - val_loss: 5086.9717\n",
            "Epoch 131/200\n",
            "234/234 [==============================] - 0s 2ms/step - loss: 6774.1367 - val_loss: 5055.1714\n",
            "Epoch 132/200\n",
            "234/234 [==============================] - 0s 2ms/step - loss: 6635.4663 - val_loss: 5072.9678\n",
            "Epoch 133/200\n",
            "234/234 [==============================] - 0s 2ms/step - loss: 6726.8506 - val_loss: 5041.8896\n",
            "Epoch 134/200\n",
            "234/234 [==============================] - 0s 2ms/step - loss: 6647.7686 - val_loss: 5041.7275\n",
            "Epoch 135/200\n",
            "234/234 [==============================] - 0s 2ms/step - loss: 6636.1357 - val_loss: 5011.6553\n",
            "Epoch 136/200\n",
            "234/234 [==============================] - 0s 2ms/step - loss: 6487.9785 - val_loss: 4991.9883\n",
            "Epoch 137/200\n",
            "234/234 [==============================] - 0s 2ms/step - loss: 6528.2417 - val_loss: 4993.0659\n",
            "Epoch 138/200\n",
            "234/234 [==============================] - 0s 2ms/step - loss: 6556.9282 - val_loss: 4977.5493\n",
            "Epoch 139/200\n",
            "234/234 [==============================] - 0s 2ms/step - loss: 6617.6333 - val_loss: 5072.3643\n",
            "Epoch 140/200\n",
            "234/234 [==============================] - 0s 2ms/step - loss: 6526.6670 - val_loss: 4966.9785\n",
            "Epoch 141/200\n",
            "234/234 [==============================] - 0s 2ms/step - loss: 6430.0532 - val_loss: 4936.3301\n",
            "Epoch 142/200\n",
            "234/234 [==============================] - 0s 2ms/step - loss: 6604.0273 - val_loss: 5002.7988\n",
            "Epoch 143/200\n",
            "234/234 [==============================] - 0s 2ms/step - loss: 6489.5923 - val_loss: 5009.2383\n",
            "Epoch 144/200\n",
            "234/234 [==============================] - 0s 2ms/step - loss: 6639.0532 - val_loss: 5015.3525\n",
            "Epoch 145/200\n",
            "234/234 [==============================] - 0s 2ms/step - loss: 6465.8555 - val_loss: 4963.9580\n",
            "Epoch 146/200\n",
            "234/234 [==============================] - 0s 2ms/step - loss: 6590.9624 - val_loss: 4917.2437\n",
            "Epoch 147/200\n",
            "234/234 [==============================] - 1s 2ms/step - loss: 6618.0137 - val_loss: 4855.2852\n",
            "Epoch 148/200\n",
            "234/234 [==============================] - 0s 2ms/step - loss: 6484.8838 - val_loss: 4882.6875\n",
            "Epoch 149/200\n",
            "234/234 [==============================] - 0s 2ms/step - loss: 6524.9951 - val_loss: 4874.0918\n",
            "Epoch 150/200\n",
            "234/234 [==============================] - 0s 2ms/step - loss: 6476.4175 - val_loss: 4897.7964\n",
            "Epoch 151/200\n",
            "234/234 [==============================] - 0s 2ms/step - loss: 6447.7642 - val_loss: 4852.0063\n",
            "Epoch 152/200\n",
            "234/234 [==============================] - 0s 2ms/step - loss: 6538.9556 - val_loss: 4914.7554\n",
            "Epoch 153/200\n",
            "234/234 [==============================] - 0s 2ms/step - loss: 6573.8750 - val_loss: 4860.4546\n",
            "Epoch 154/200\n",
            "234/234 [==============================] - 0s 2ms/step - loss: 6497.5176 - val_loss: 4854.1694\n",
            "Epoch 155/200\n",
            "234/234 [==============================] - 0s 2ms/step - loss: 6623.8599 - val_loss: 4904.6514\n",
            "Epoch 156/200\n",
            "234/234 [==============================] - 0s 2ms/step - loss: 6521.8330 - val_loss: 4867.5137\n",
            "Epoch 157/200\n",
            "234/234 [==============================] - 0s 1ms/step - loss: 6535.3110 - val_loss: 4874.6064\n",
            "Epoch 158/200\n",
            "234/234 [==============================] - 0s 2ms/step - loss: 6423.8774 - val_loss: 4788.9717\n",
            "Epoch 159/200\n",
            "234/234 [==============================] - 0s 2ms/step - loss: 6624.7568 - val_loss: 4830.2993\n",
            "Epoch 160/200\n",
            "234/234 [==============================] - 0s 2ms/step - loss: 6482.5439 - val_loss: 4818.0352\n",
            "Epoch 161/200\n",
            "234/234 [==============================] - 0s 1ms/step - loss: 6391.0557 - val_loss: 4838.9282\n",
            "Epoch 162/200\n",
            "234/234 [==============================] - 0s 2ms/step - loss: 6196.1313 - val_loss: 4799.4570\n",
            "Epoch 163/200\n",
            "234/234 [==============================] - 0s 2ms/step - loss: 6430.5244 - val_loss: 4755.1987\n",
            "Epoch 164/200\n",
            "234/234 [==============================] - 0s 2ms/step - loss: 6584.9102 - val_loss: 4777.0518\n",
            "Epoch 165/200\n",
            "234/234 [==============================] - 0s 2ms/step - loss: 6246.6655 - val_loss: 4770.8521\n",
            "Epoch 166/200\n",
            "234/234 [==============================] - 0s 2ms/step - loss: 6402.4639 - val_loss: 4710.8872\n",
            "Epoch 167/200\n",
            "234/234 [==============================] - 0s 2ms/step - loss: 6375.6714 - val_loss: 4797.8076\n",
            "Epoch 168/200\n",
            "234/234 [==============================] - 0s 2ms/step - loss: 6459.9180 - val_loss: 4715.5337\n",
            "Epoch 169/200\n",
            "234/234 [==============================] - 0s 2ms/step - loss: 6286.9463 - val_loss: 4689.7617\n",
            "Epoch 170/200\n",
            "234/234 [==============================] - 0s 2ms/step - loss: 6275.4287 - val_loss: 4747.6406\n",
            "Epoch 171/200\n",
            "234/234 [==============================] - 0s 2ms/step - loss: 6215.9780 - val_loss: 4702.7236\n",
            "Epoch 172/200\n",
            "234/234 [==============================] - 0s 2ms/step - loss: 6282.9165 - val_loss: 4692.8252\n",
            "Epoch 173/200\n",
            "234/234 [==============================] - 0s 2ms/step - loss: 6331.6328 - val_loss: 4682.8135\n",
            "Epoch 174/200\n",
            "234/234 [==============================] - 0s 2ms/step - loss: 6228.4814 - val_loss: 4639.5747\n",
            "Epoch 175/200\n",
            "234/234 [==============================] - 1s 2ms/step - loss: 6297.4375 - val_loss: 4601.5200\n",
            "Epoch 176/200\n",
            "234/234 [==============================] - 1s 3ms/step - loss: 6572.6392 - val_loss: 4725.1548\n",
            "Epoch 177/200\n",
            "234/234 [==============================] - 1s 3ms/step - loss: 6541.9697 - val_loss: 4682.3105\n",
            "Epoch 178/200\n",
            "234/234 [==============================] - 0s 2ms/step - loss: 6271.1079 - val_loss: 4599.1987\n",
            "Epoch 179/200\n",
            "234/234 [==============================] - 0s 2ms/step - loss: 6171.9263 - val_loss: 4632.6006\n",
            "Epoch 180/200\n",
            "234/234 [==============================] - 0s 2ms/step - loss: 6435.9629 - val_loss: 4658.2305\n",
            "Epoch 181/200\n",
            "234/234 [==============================] - 0s 2ms/step - loss: 6202.9824 - val_loss: 4584.8892\n",
            "Epoch 182/200\n",
            "234/234 [==============================] - 0s 2ms/step - loss: 6327.0444 - val_loss: 4608.7168\n",
            "Epoch 183/200\n",
            "234/234 [==============================] - 0s 2ms/step - loss: 6228.9868 - val_loss: 4598.3965\n",
            "Epoch 184/200\n",
            "234/234 [==============================] - 0s 2ms/step - loss: 6214.3657 - val_loss: 4587.7461\n",
            "Epoch 185/200\n",
            "234/234 [==============================] - 0s 2ms/step - loss: 6053.2080 - val_loss: 4593.0146\n",
            "Epoch 186/200\n",
            "234/234 [==============================] - 0s 2ms/step - loss: 6190.3071 - val_loss: 4562.5020\n",
            "Epoch 187/200\n",
            "234/234 [==============================] - 0s 2ms/step - loss: 6193.4126 - val_loss: 4564.2764\n",
            "Epoch 188/200\n",
            "234/234 [==============================] - 0s 1ms/step - loss: 6145.3135 - val_loss: 4496.9268\n",
            "Epoch 189/200\n",
            "234/234 [==============================] - 0s 2ms/step - loss: 6176.7124 - val_loss: 4527.1675\n",
            "Epoch 190/200\n",
            "234/234 [==============================] - 0s 2ms/step - loss: 6178.5420 - val_loss: 4509.3276\n",
            "Epoch 191/200\n",
            "234/234 [==============================] - 0s 2ms/step - loss: 6200.8042 - val_loss: 4495.8940\n",
            "Epoch 192/200\n",
            "234/234 [==============================] - 0s 2ms/step - loss: 6161.1802 - val_loss: 4510.5869\n",
            "Epoch 193/200\n",
            "234/234 [==============================] - 0s 2ms/step - loss: 6207.0156 - val_loss: 4500.2891\n",
            "Epoch 194/200\n",
            "234/234 [==============================] - 0s 2ms/step - loss: 6110.2974 - val_loss: 4453.8384\n",
            "Epoch 195/200\n",
            "234/234 [==============================] - 0s 2ms/step - loss: 6224.8174 - val_loss: 4515.1479\n",
            "Epoch 196/200\n",
            "234/234 [==============================] - 0s 2ms/step - loss: 6075.0513 - val_loss: 4517.3032\n",
            "Epoch 197/200\n",
            "234/234 [==============================] - 0s 2ms/step - loss: 6055.5288 - val_loss: 4475.6777\n",
            "Epoch 198/200\n",
            "234/234 [==============================] - 0s 2ms/step - loss: 6143.5654 - val_loss: 4441.0308\n",
            "Epoch 199/200\n",
            "234/234 [==============================] - 0s 2ms/step - loss: 6128.8086 - val_loss: 4480.4194\n",
            "Epoch 200/200\n",
            "234/234 [==============================] - 0s 2ms/step - loss: 5963.3340 - val_loss: 4477.8970\n"
          ]
        }
      ]
    },
    {
      "cell_type": "code",
      "source": [
        "model.save('python_model.h5')"
      ],
      "metadata": {
        "colab": {
          "base_uri": "https://localhost:8080/"
        },
        "id": "a-tltE_olEdY",
        "outputId": "f73116d8-849e-4849-ecc8-5ebb0c15f579"
      },
      "execution_count": null,
      "outputs": [
        {
          "output_type": "stream",
          "name": "stderr",
          "text": [
            "/usr/local/lib/python3.10/dist-packages/keras/src/engine/training.py:3103: UserWarning: You are saving your model as an HDF5 file via `model.save()`. This file format is considered legacy. We recommend using instead the native Keras format, e.g. `model.save('my_model.keras')`.\n",
            "  saving_api.save_model(\n"
          ]
        }
      ]
    },
    {
      "cell_type": "code",
      "source": [
        "# Accuracy und Loss Werte abspeichern\n",
        "loss = history.history['loss']\n",
        "val_loss = history.history['val_loss']\n",
        "\n",
        "epochs = history.epoch"
      ],
      "metadata": {
        "id": "vwBaCg5VlRBf"
      },
      "execution_count": 13,
      "outputs": []
    },
    {
      "cell_type": "code",
      "source": [
        "# Accuracy Verläufe zeichnen\n",
        "plt.figure(figsize=(12,6))\n",
        "plt.plot(epochs, loss, 'bo', label='Training loss')\n",
        "plt.plot(epochs, val_loss, 'b', label='Validation loss')\n",
        "plt.title('Training and Validation Loss')\n",
        "plt.xlabel('Epochs')\n",
        "plt.ylabel('Loss')\n",
        "plt.legend()"
      ],
      "metadata": {
        "id": "SJBzNIENqs52",
        "colab": {
          "base_uri": "https://localhost:8080/",
          "height": 582
        },
        "outputId": "05905ecd-a919-4448-a605-3cebc3d36a12"
      },
      "execution_count": 14,
      "outputs": [
        {
          "output_type": "execute_result",
          "data": {
            "text/plain": [
              "<matplotlib.legend.Legend at 0x7e73000e12a0>"
            ]
          },
          "metadata": {},
          "execution_count": 14
        },
        {
          "output_type": "display_data",
          "data": {
            "text/plain": [
              "<Figure size 1200x600 with 1 Axes>"
            ],
            "image/png": "[encoded data removed]"
          },
          "metadata": {}
        }
      ]
    },
    {
      "cell_type": "markdown",
      "source": [
        "MAPE auf Validierungsdaten gesamt"
      ],
      "metadata": {
        "id": "li9LuBUfhPKc"
      }
    },
    {
      "cell_type": "code",
      "source": [
        "import numpy as np\n",
        "\n",
        "def mape(y_true, y_pred):\n",
        "    y_true, y_pred = np.array(y_true), np.array(y_pred)\n",
        "    non_zero_mask = y_true != 0\n",
        "    return np.mean(np.abs((y_true[non_zero_mask] - y_pred[non_zero_mask]) / y_true[non_zero_mask])) * 100\n",
        "\n",
        "training_predictions = model.predict(training_features)\n",
        "validation_predictions = model.predict(validation_features)\n",
        "print(f\"MAPE on the Validation Data: {mape(validation_labels, validation_predictions):.2f}%\")"
      ],
      "metadata": {
        "colab": {
          "base_uri": "https://localhost:8080/"
        },
        "id": "DU53ZS8Hsv3_",
        "outputId": "892cebe2-37fe-415f-9c4c-b147fd9eb08c"
      },
      "execution_count": 19,
      "outputs": [
        {
          "output_type": "stream",
          "name": "stdout",
          "text": [
            "234/234 [==============================] - 0s 2ms/step\n",
            "59/59 [==============================] - 0s 2ms/step\n",
            "MAPE on the Validation Data: 31.07%\n",
            "      prediction      actual\n",
            "0     333.949127  280.921451\n",
            "1     196.120895  239.066941\n",
            "2     477.068451  582.549770\n",
            "3     214.012375  264.347743\n",
            "4     115.565437  111.906264\n",
            "...          ...         ...\n",
            "1862   52.494972  123.075682\n",
            "1863  228.542542  586.081666\n",
            "1864   52.553635  285.872616\n",
            "1865   32.770916   57.102795\n",
            "1866  107.682968  261.341313\n",
            "\n",
            "[1867 rows x 2 columns]\n"
          ]
        }
      ]
    },
    {
      "cell_type": "code",
      "source": [
        "def plot_predictions(data, title):\n",
        "    plt.figure(figsize=(12, 6))\n",
        "    plt.plot(data['actual'], 'bo', label='Actual Values')\n",
        "    plt.plot(data['prediction'], 'ro', label='Predicted Values')\n",
        "    plt.title(title)\n",
        "    plt.xlabel('Case Number')\n",
        "    plt.ylabel('Price in 1.000 USD')\n",
        "    plt.legend()\n",
        "    plt.show()\n",
        "\n",
        "data_train = pd.DataFrame({'prediction': training_predictions.flatten(), 'actual': np.array(training_labels).flatten()})\n",
        "data_validation = pd.DataFrame({'prediction': validation_predictions.flatten(), 'actual': np.array(validation_labels).flatten()})\n",
        "print(data_validation)\n",
        "plot_predictions(data_train.head(100), 'Predicted and Actual Values for the Training Data')\n",
        "plot_predictions(data_validation.head(100), 'Predicted and Actual Values for the Validation Data')"
      ],
      "metadata": {
        "colab": {
          "base_uri": "https://localhost:8080/",
          "height": 1000
        },
        "id": "cWPs3H7ctB14",
        "outputId": "926d9eec-a856-4015-e064-024aac8146b7"
      },
      "execution_count": 24,
      "outputs": [
        {
          "output_type": "stream",
          "name": "stdout",
          "text": [
            "      prediction      actual\n",
            "0     333.949127  280.921451\n",
            "1     196.120895  239.066941\n",
            "2     477.068451  582.549770\n",
            "3     214.012375  264.347743\n",
            "4     115.565437  111.906264\n",
            "...          ...         ...\n",
            "1862   52.494972  123.075682\n",
            "1863  228.542542  586.081666\n",
            "1864   52.553635  285.872616\n",
            "1865   32.770916   57.102795\n",
            "1866  107.682968  261.341313\n",
            "\n",
            "[1867 rows x 2 columns]\n"
          ]
        },
        {
          "output_type": "display_data",
          "data": {
            "text/plain": [
              "<Figure size 1200x600 with 1 Axes>"
            ],
            "image/png": "[encoded data removed]"
          },
          "metadata": {}
        },
        {
          "output_type": "display_data",
          "data": {
            "text/plain": [
              "<Figure size 1200x600 with 1 Axes>"
            ],
            "image/png": "[encoded data removed]"
          },
          "metadata": {}
        }
      ]
    },
    {
      "cell_type": "markdown",
      "source": [
        "# Aufteilen nach Warengruppe"
      ],
      "metadata": {
        "id": "Ao59-Z0mLwnK"
      }
    },
    {
      "cell_type": "markdown",
      "source": [
        "Warengruppe 1"
      ],
      "metadata": {
        "id": "dwskdhwxsaUb"
      }
    },
    {
      "cell_type": "code",
      "source": [
        "validation_data_w1 = validation_data[(validation_features['as.factor(Warengruppe)2'] == 0) & (validation_features['as.factor(Warengruppe)3'] == 0) & (validation_features['as.factor(Warengruppe)4'] == 0) & (validation_features['as.factor(Warengruppe)5'] == 0) & (validation_features['as.factor(Warengruppe)6']==0)]\n",
        "validation_labels_w1 = validation_data_w1['label']\n",
        "validation_features_w1 = validation_data_w1.drop(columns = ['label'])\n",
        "\n",
        "def mape(y_true, y_pred):\n",
        "    y_true, y_pred = np.array(y_true), np.array(y_pred)\n",
        "    non_zero_mask = y_true != 0\n",
        "    return np.mean(np.abs((y_true[non_zero_mask] - y_pred[non_zero_mask]) / y_true[non_zero_mask])) * 100\n",
        "\n",
        "validation_predictions = model.predict(validation_features_w1)\n",
        "print(f\"MAPE on the Validation Data: {mape(validation_labels_w1, validation_predictions):.2f}%\")"
      ],
      "metadata": {
        "colab": {
          "base_uri": "https://localhost:8080/"
        },
        "id": "oIZcg9fLhybh",
        "outputId": "43c82ee2-89d1-42f5-a625-d5b51e1a131c"
      },
      "execution_count": 45,
      "outputs": [
        {
          "output_type": "stream",
          "name": "stdout",
          "text": [
            "12/12 [==============================] - 0s 1ms/step\n",
            "MAPE on the Validation Data: 47.98%\n"
          ]
        }
      ]
    },
    {
      "cell_type": "markdown",
      "source": [
        "Warengruppe 2"
      ],
      "metadata": {
        "id": "Inp0IJGmszbg"
      }
    },
    {
      "cell_type": "code",
      "source": [
        "validation_data_w2 = validation_data[(validation_features['as.factor(Warengruppe)2'] == 1)]\n",
        "validation_labels_w2 = validation_data_w2['label']\n",
        "validation_features_w2 = validation_data_w2.drop(columns = ['label'])\n",
        "\n",
        "def mape(y_true, y_pred):\n",
        "    y_true, y_pred = np.array(y_true), np.array(y_pred)\n",
        "    non_zero_mask = y_true != 0\n",
        "    return np.mean(np.abs((y_true[non_zero_mask] - y_pred[non_zero_mask]) / y_true[non_zero_mask])) * 100\n",
        "\n",
        "validation_predictions = model.predict(validation_features_w2)\n",
        "print(f\"MAPE on the Validation Data: {mape(validation_labels_w2, validation_predictions):.2f}%\")"
      ],
      "metadata": {
        "colab": {
          "base_uri": "https://localhost:8080/"
        },
        "id": "eRU9vkw4syZW",
        "outputId": "38f6977d-0ab0-4812-b113-097fca0e3421"
      },
      "execution_count": 46,
      "outputs": [
        {
          "output_type": "stream",
          "name": "stdout",
          "text": [
            "12/12 [==============================] - 0s 1ms/step\n",
            "MAPE on the Validation Data: 40.01%\n"
          ]
        }
      ]
    },
    {
      "cell_type": "markdown",
      "source": [
        "Warengruppe 3"
      ],
      "metadata": {
        "id": "SA5pH8bctLR3"
      }
    },
    {
      "cell_type": "code",
      "source": [
        "validation_data_w3 = validation_data[(validation_features['as.factor(Warengruppe)3'] == 1)]\n",
        "validation_labels_w3 = validation_data_w3['label']\n",
        "validation_features_w3 = validation_data_w3.drop(columns = ['label'])\n",
        "\n",
        "def mape(y_true, y_pred):\n",
        "    y_true, y_pred = np.array(y_true), np.array(y_pred)\n",
        "    non_zero_mask = y_true != 0\n",
        "    return np.mean(np.abs((y_true[non_zero_mask] - y_pred[non_zero_mask]) / y_true[non_zero_mask])) * 100\n",
        "\n",
        "validation_predictions = model.predict(validation_features_w3)\n",
        "print(f\"MAPE on the Validation Data: {mape(validation_labels_w3, validation_predictions):.2f}%\")"
      ],
      "metadata": {
        "colab": {
          "base_uri": "https://localhost:8080/"
        },
        "id": "4Z5hqDvxtFd7",
        "outputId": "97627cf5-b017-4c53-edea-5e6aa5fdee58"
      },
      "execution_count": 47,
      "outputs": [
        {
          "output_type": "stream",
          "name": "stdout",
          "text": [
            "12/12 [==============================] - 0s 1ms/step\n",
            "MAPE on the Validation Data: 49.70%\n"
          ]
        }
      ]
    },
    {
      "cell_type": "markdown",
      "source": [
        "Warengruppe 4"
      ],
      "metadata": {
        "id": "f4Sk2tCftWK8"
      }
    },
    {
      "cell_type": "code",
      "source": [
        "validation_data_w4 = validation_data[(validation_features['as.factor(Warengruppe)4'] == 1)]\n",
        "validation_labels_w4 = validation_data_w4['label']\n",
        "validation_features_w4 = validation_data_w4.drop(columns = ['label'])\n",
        "\n",
        "def mape(y_true, y_pred):\n",
        "    y_true, y_pred = np.array(y_true), np.array(y_pred)\n",
        "    non_zero_mask = y_true != 0\n",
        "    return np.mean(np.abs((y_true[non_zero_mask] - y_pred[non_zero_mask]) / y_true[non_zero_mask])) * 100\n",
        "\n",
        "validation_predictions = model.predict(validation_features_w4)\n",
        "print(f\"MAPE on the Validation Data: {mape(validation_labels_w4, validation_predictions):.2f}%\")"
      ],
      "metadata": {
        "colab": {
          "base_uri": "https://localhost:8080/"
        },
        "id": "ijtRriGehwn-",
        "outputId": "a3509d17-fb87-4b0e-b4ac-7245ed941771"
      },
      "execution_count": 48,
      "outputs": [
        {
          "output_type": "stream",
          "name": "stdout",
          "text": [
            "12/12 [==============================] - 0s 1ms/step\n",
            "MAPE on the Validation Data: 41.36%\n"
          ]
        }
      ]
    },
    {
      "cell_type": "markdown",
      "source": [
        "Warengruppe 5"
      ],
      "metadata": {
        "id": "vf3DfQiAtiHa"
      }
    },
    {
      "cell_type": "code",
      "source": [
        "validation_data_w5 = validation_data[(validation_features['as.factor(Warengruppe)5'] == 1)]\n",
        "validation_labels_w5 = validation_data_w5['label']\n",
        "validation_features_w5 = validation_data_w5.drop(columns = ['label'])\n",
        "\n",
        "def mape(y_true, y_pred):\n",
        "    y_true, y_pred = np.array(y_true), np.array(y_pred)\n",
        "    non_zero_mask = y_true != 0\n",
        "    return np.mean(np.abs((y_true[non_zero_mask] - y_pred[non_zero_mask]) / y_true[non_zero_mask])) * 100\n",
        "\n",
        "validation_predictions = model.predict(validation_features_w5)\n",
        "print(f\"MAPE on the Validation Data: {mape(validation_labels_w5, validation_predictions):.2f}%\")"
      ],
      "metadata": {
        "colab": {
          "base_uri": "https://localhost:8080/"
        },
        "id": "SFwqIZCAtjpN",
        "outputId": "4cec2ab0-69c3-4680-b4b1-5b04dadf4a66"
      },
      "execution_count": 49,
      "outputs": [
        {
          "output_type": "stream",
          "name": "stdout",
          "text": [
            "12/12 [==============================] - 0s 2ms/step\n",
            "MAPE on the Validation Data: 28.71%\n"
          ]
        }
      ]
    },
    {
      "cell_type": "markdown",
      "source": [
        "Warengruppe 6"
      ],
      "metadata": {
        "id": "Dn4QIPt0tsAI"
      }
    },
    {
      "cell_type": "code",
      "source": [
        "validation_data_w6 = validation_data[(validation_features['as.factor(Warengruppe)6'] == 1)]\n",
        "validation_labels_w6 = validation_data_w6['label']\n",
        "validation_features_w6 = validation_data_w6.drop(columns = ['label'])\n",
        "\n",
        "def mape(y_true, y_pred):\n",
        "    y_true, y_pred = np.array(y_true), np.array(y_pred)\n",
        "    non_zero_mask = y_true != 0\n",
        "    return np.mean(np.abs((y_true[non_zero_mask] - y_pred[non_zero_mask]) / y_true[non_zero_mask])) * 100\n",
        "\n",
        "validation_predictions = model.predict(validation_features_w6)\n",
        "print(f\"MAPE on the Validation Data: {mape(validation_labels_w6, validation_predictions):.2f}%\")"
      ],
      "metadata": {
        "colab": {
          "base_uri": "https://localhost:8080/"
        },
        "id": "DI-vggSStt1_",
        "outputId": "5210bcbf-0128-4dca-ce28-41aa4f2b3629"
      },
      "execution_count": 50,
      "outputs": [
        {
          "output_type": "stream",
          "name": "stdout",
          "text": [
            "2/2 [==============================] - 0s 3ms/step\n",
            "MAPE on the Validation Data: 63.77%\n"
          ]
        }
      ]
    },
    {
      "cell_type": "markdown",
      "source": [
        "# Kaggel Vorbereitung"
      ],
      "metadata": {
        "id": "jMMhOc1B1Onk"
      }
    },
    {
      "cell_type": "code",
      "source": [
        "# Extract IDs and prepare test features\n",
        "test_ids = test_features['id']\n",
        "test_features_for_prediction = test_features.drop(columns=['id'])\n",
        "\n",
        "# Make predictions\n",
        "test_predictions = model.predict(test_features_for_prediction)\n",
        "\n",
        "# Create a DataFrame for submission\n",
        "predictions_df = pd.DataFrame({\n",
        "    'id': test_ids,\n",
        "    'Predicted_Value': test_predictions.flatten() # Replace column name with name given in the smaple_submission.csv\n",
        "})\n",
        "\n",
        "# Export to CSV\n",
        "predictions_df.to_csv('kaggle_submission.csv', index=False)\n",
        "\n",
        "print(\"Submission file created: 'kaggle_submission.csv'\")"
      ],
      "metadata": {
        "colab": {
          "base_uri": "https://localhost:8080/"
        },
        "id": "AwHwCDsV1TD1",
        "outputId": "ef4f2ce7-bbdd-487a-8543-c16e414a018b"
      },
      "execution_count": 25,
      "outputs": [
        {
          "output_type": "stream",
          "name": "stdout",
          "text": [
            "58/58 [==============================] - 0s 1ms/step\n",
            "Submission file created: 'kaggle_submission.csv'\n"
          ]
        }
      ]
    }
  ]
}